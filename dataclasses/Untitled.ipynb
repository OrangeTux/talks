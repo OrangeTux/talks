{
 "cells": [
  {
   "cell_type": "markdown",
   "metadata": {
    "slideshow": {
     "slide_type": "slide"
    }
   },
   "source": [
    "### Dataclasses, a Must-know Feature of Python 3.7\n",
    "\n",
    "* Auke Oosterhoff\n",
    "* auke@orangetux.nl\n",
    "* github.com/orangetux\n",
    "* The Mobility House"
   ]
  },
  {
   "cell_type": "markdown",
   "metadata": {
    "slideshow": {
     "slide_type": "slide"
    }
   },
   "source": [
    "### Dataclasses, a ~~Must-know~~  boring new feature of Python 3.7\n",
    "\n",
    "* Auke Oosterhoff\n",
    "* auke@orangetux.nl\n",
    "* github.com/orangetux\n",
    "* The Mobility House"
   ]
  },
  {
   "cell_type": "markdown",
   "metadata": {
    "slideshow": {
     "slide_type": "slide"
    }
   },
   "source": [
    "## Regular class"
   ]
  },
  {
   "cell_type": "code",
   "execution_count": 2,
   "metadata": {
    "slideshow": {
     "slide_type": "subslide"
    }
   },
   "outputs": [
    {
     "name": "stdout",
     "output_type": "stream",
     "text": [
      "<__main__.RegularBeer object at 0x7fede02cc4a8>\n"
     ]
    }
   ],
   "source": [
    "class RegularBeer:\n",
    "    def __init__(self, name, brewery, abv, rating=0):\n",
    "        self.name = name\n",
    "        self.brewery = brewery\n",
    "        self.abv = abv\n",
    "        self.rating = rating\n",
    "        \n",
    "regular_beer = RegularBeer(\"Kon minder\", \"Bax bier\", 5.1)\n",
    "print(regular_beer)"
   ]
  },
  {
   "cell_type": "markdown",
   "metadata": {
    "slideshow": {
     "slide_type": "slide"
    }
   },
   "source": [
    "## Named Tuples"
   ]
  },
  {
   "cell_type": "code",
   "execution_count": null,
   "metadata": {},
   "outputs": [],
   "source": [
    "from collections import namedtuple"
   ]
  },
  {
   "cell_type": "code",
   "execution_count": 4,
   "metadata": {
    "slideshow": {
     "slide_type": "subslide"
    }
   },
   "outputs": [
    {
     "name": "stdout",
     "output_type": "stream",
     "text": [
      "TupleBeer(name='Kon minder', brewery='Bax bier', abv=5.1, rating=0)\n"
     ]
    },
    {
     "ename": "AttributeError",
     "evalue": "can't set attribute",
     "output_type": "error",
     "traceback": [
      "\u001b[0;31m---------------------------------------------------------------------------\u001b[0m",
      "\u001b[0;31mAttributeError\u001b[0m                            Traceback (most recent call last)",
      "\u001b[0;32m<ipython-input-4-cb53c6b68b67>\u001b[0m in \u001b[0;36m<module>\u001b[0;34m\u001b[0m\n\u001b[1;32m      5\u001b[0m \u001b[0mtuple_beer\u001b[0m \u001b[0;34m=\u001b[0m \u001b[0mTupleBeer\u001b[0m\u001b[0;34m(\u001b[0m\u001b[0;34m\"Kon minder\"\u001b[0m\u001b[0;34m,\u001b[0m \u001b[0;34m\"Bax bier\"\u001b[0m\u001b[0;34m,\u001b[0m \u001b[0;36m5.1\u001b[0m\u001b[0;34m,\u001b[0m \u001b[0;36m0\u001b[0m\u001b[0;34m)\u001b[0m\u001b[0;34m\u001b[0m\u001b[0m\n\u001b[1;32m      6\u001b[0m \u001b[0mprint\u001b[0m\u001b[0;34m(\u001b[0m\u001b[0mtuple_beer\u001b[0m\u001b[0;34m)\u001b[0m\u001b[0;34m\u001b[0m\u001b[0m\n\u001b[0;32m----> 7\u001b[0;31m \u001b[0mtuple_beer\u001b[0m\u001b[0;34m.\u001b[0m\u001b[0mrating\u001b[0m \u001b[0;34m=\u001b[0m \u001b[0;36m1\u001b[0m\u001b[0;34m\u001b[0m\u001b[0m\n\u001b[0m",
      "\u001b[0;31mAttributeError\u001b[0m: can't set attribute"
     ]
    }
   ],
   "source": [
    "from collections import namedtuple\n",
    "\n",
    "TupleBeer = namedtuple(\"TupleBeer\", [\"name\", \"brewery\", \"abv\", \"rating\"])\n",
    "\n",
    "tuple_beer = TupleBeer(\"Kon minder\", \"Bax bier\", 5.1, 0)\n",
    "print(tuple_beer)\n",
    "tuple_beer.rating = 1"
   ]
  },
  {
   "cell_type": "markdown",
   "metadata": {
    "slideshow": {
     "slide_type": "slide"
    }
   },
   "source": [
    "## Dataclasses"
   ]
  },
  {
   "cell_type": "code",
   "execution_count": null,
   "metadata": {},
   "outputs": [],
   "source": [
    "from dataclasses import dataclass\n",
    "\n"
   ]
  },
  {
   "cell_type": "code",
   "execution_count": 5,
   "metadata": {
    "slideshow": {
     "slide_type": "subslide"
    }
   },
   "outputs": [
    {
     "name": "stdout",
     "output_type": "stream",
     "text": [
      "DataclassBeer(name='Kon minder', abv='Bax bier', brewery=5.1, rating=0)\n"
     ]
    }
   ],
   "source": [
    "from dataclasses import dataclass\n",
    "@dataclass\n",
    "class DataclassBeer:\n",
    "    name: str\n",
    "    abv: float\n",
    "    brewery: str\n",
    "    rating: float = 0\n",
    "        \n",
    "dataclass_beer = DataclassBeer(\"Kon minder\", \"Bax bier\", 5.1)\n",
    "print(dataclass_beer)"
   ]
  },
  {
   "cell_type": "markdown",
   "metadata": {
    "slideshow": {
     "slide_type": "slide"
    }
   },
   "source": [
    "The `@dataclass` generator adds methods to the class that you'd otherwise define yourself like `__repr__`, `__init__`, `__lt__`, and `__gt__`."
   ]
  },
  {
   "cell_type": "code",
   "execution_count": 6,
   "metadata": {},
   "outputs": [
    {
     "name": "stdout",
     "output_type": "stream",
     "text": [
      "Help on function dataclass in module dataclasses:\n",
      "\n",
      "dataclass(_cls=None, *, init=True, repr=True, eq=True, order=False, unsafe_hash=False, frozen=False)\n",
      "    Returns the same class as was passed in, with dunder methods\n",
      "    added based on the fields defined in the class.\n",
      "    \n",
      "    Examines PEP 526 __annotations__ to determine fields.\n",
      "    \n",
      "    If init is true, an __init__() method is added to the class. If\n",
      "    repr is true, a __repr__() method is added. If order is true, rich\n",
      "    comparison dunder methods are added. If unsafe_hash is true, a\n",
      "    __hash__() method function is added. If frozen is true, fields may\n",
      "    not be assigned to after instance creation.\n",
      "\n"
     ]
    }
   ],
   "source": [
    "help(dataclass)"
   ]
  },
  {
   "cell_type": "markdown",
   "metadata": {
    "slideshow": {
     "slide_type": "slide"
    }
   },
   "source": [
    "## Customizing attributes\n"
   ]
  },
  {
   "cell_type": "code",
   "execution_count": null,
   "metadata": {},
   "outputs": [],
   "source": [
    "from dataclasses import field"
   ]
  },
  {
   "cell_type": "code",
   "execution_count": 8,
   "metadata": {},
   "outputs": [],
   "source": [
    "from dataclasses import field, dataclass\n",
    "\n",
    "@dataclass\n",
    "class Brewery:\n",
    "    id: int = field(init=False)\n",
    "    name: str\n",
    "    description: str = field(repr=False)\n",
    "    \n",
    "\n",
    "bax = Brewery(name=\"Bax Bier\", description=\"My favourite brewery!\")\n"
   ]
  },
  {
   "cell_type": "code",
   "execution_count": 9,
   "metadata": {
    "slideshow": {
     "slide_type": "-"
    }
   },
   "outputs": [
    {
     "ename": "AttributeError",
     "evalue": "'Brewery' object has no attribute 'id'",
     "output_type": "error",
     "traceback": [
      "\u001b[0;31m---------------------------------------------------------------------------\u001b[0m",
      "\u001b[0;31mAttributeError\u001b[0m                            Traceback (most recent call last)",
      "\u001b[0;32m<ipython-input-9-3b51dcd9f227>\u001b[0m in \u001b[0;36m<module>\u001b[0;34m\u001b[0m\n\u001b[0;32m----> 1\u001b[0;31m \u001b[0mprint\u001b[0m\u001b[0;34m(\u001b[0m\u001b[0mbax\u001b[0m\u001b[0;34m)\u001b[0m\u001b[0;34m\u001b[0m\u001b[0m\n\u001b[0m",
      "\u001b[0;32m~/.pyenv/versions/3.7.0/lib/python3.7/dataclasses.py\u001b[0m in \u001b[0;36m__repr__\u001b[0;34m(self)\u001b[0m\n",
      "\u001b[0;31mAttributeError\u001b[0m: 'Brewery' object has no attribute 'id'"
     ]
    }
   ],
   "source": [
    "print(bax)"
   ]
  },
  {
   "cell_type": "code",
   "execution_count": 10,
   "metadata": {
    "slideshow": {
     "slide_type": "subslide"
    }
   },
   "outputs": [],
   "source": [
    "from dataclasses import field, dataclass\n",
    "\n",
    "@dataclass\n",
    "class Brewery:\n",
    "    id: int = field(init=False)\n",
    "    name: str\n",
    "    description: str = field(repr=False)\n",
    "        \n",
    "    def __post_init__(self):\n",
    "        self.id = 1234\n",
    "    \n",
    "\n",
    "bax = Brewery(name=\"Bax Bier\", description=\"My favourite brewery!\")"
   ]
  },
  {
   "cell_type": "code",
   "execution_count": 11,
   "metadata": {},
   "outputs": [
    {
     "name": "stdout",
     "output_type": "stream",
     "text": [
      "Brewery(id=1234, name='Bax Bier')\n"
     ]
    }
   ],
   "source": [
    "print(bax)"
   ]
  },
  {
   "cell_type": "markdown",
   "metadata": {
    "slideshow": {
     "slide_type": "slide"
    }
   },
   "source": [
    "## Mutable default values"
   ]
  },
  {
   "cell_type": "code",
   "execution_count": null,
   "metadata": {},
   "outputs": [],
   "source": []
  },
  {
   "cell_type": "code",
   "execution_count": 13,
   "metadata": {},
   "outputs": [
    {
     "name": "stdout",
     "output_type": "stream",
     "text": [
      "[5, 1]\n",
      "[5, 1]\n"
     ]
    }
   ],
   "source": [
    "\n",
    "class Ratings:\n",
    "    ratings = []\n",
    "    \n",
    "    def add_rating(self, rating):\n",
    "        self.ratings.append(rating)\n",
    "        \n",
    "r1 = Ratings()\n",
    "r2 = Ratings()\n",
    "\n",
    "r1.add_rating(5)\n",
    "r2.add_rating(1)\n",
    "\n",
    "print(r1.ratings)\n",
    "print(r2.ratings)\n",
    "\n",
    "def __init__(self, ratings=[])\n",
    "    self.ratings = ratings"
   ]
  },
  {
   "cell_type": "code",
   "execution_count": 14,
   "metadata": {},
   "outputs": [
    {
     "name": "stdout",
     "output_type": "stream",
     "text": [
      "Ratings(ratings=[5])\n",
      "Ratings(ratings=[1])\n"
     ]
    }
   ],
   "source": [
    "@dataclass\n",
    "class Ratings:\n",
    "    ratings: list = field(default_factory=list)\n",
    "\n",
    "    def add_rating(self, rating):\n",
    "        self.ratings.append(rating)\n",
    "        \n",
    "r1 = Ratings()\n",
    "r2 = Ratings()\n",
    "r1.add_rating(5)\n",
    "r2.add_rating(1)\n",
    "\n",
    "print(r1)\n",
    "print(r2)"
   ]
  },
  {
   "cell_type": "code",
   "execution_count": 15,
   "metadata": {
    "scrolled": true,
    "slideshow": {
     "slide_type": "slide"
    }
   },
   "outputs": [
    {
     "name": "stdout",
     "output_type": "stream",
     "text": [
      "Help on function field in module dataclasses:\n",
      "\n",
      "field(*, default=<dataclasses._MISSING_TYPE object at 0x7fede0040668>, default_factory=<dataclasses._MISSING_TYPE object at 0x7fede0040668>, init=True, repr=True, hash=None, compare=True, metadata=None)\n",
      "    Return an object to identify dataclass fields.\n",
      "    \n",
      "    default is the default value of the field.  default_factory is a\n",
      "    0-argument function called to initialize a field's value.  If init\n",
      "    is True, the field will be a parameter to the class's __init__()\n",
      "    function.  If repr is True, the field will be included in the\n",
      "    object's repr().  If hash is True, the field will be included in\n",
      "    the object's hash().  If compare is True, the field will be used\n",
      "    in comparison functions.  metadata, if specified, must be a\n",
      "    mapping which is stored but not otherwise examined by dataclass.\n",
      "    \n",
      "    It is an error to specify both default and default_factory.\n",
      "\n"
     ]
    }
   ],
   "source": [
    "help(field)"
   ]
  },
  {
   "cell_type": "markdown",
   "metadata": {},
   "source": [
    "## Nested dataclasses"
   ]
  },
  {
   "cell_type": "code",
   "execution_count": 17,
   "metadata": {
    "slideshow": {
     "slide_type": "slide"
    }
   },
   "outputs": [],
   "source": [
    "from typing import List\n",
    "from dataclasses import dataclass, asdict, is_dataclass\n",
    "\n",
    "@dataclass\n",
    "class Item:\n",
    "    name: str\n",
    "        \n",
    "\n",
    "@dataclass\n",
    "class List:\n",
    "    items: List[Item] = field(default_factory=list)\n",
    "\n",
    "data = {\n",
    "    \"items\": [{\n",
    "        \"name\": \"foo\"\n",
    "    }]\n",
    "}"
   ]
  },
  {
   "cell_type": "code",
   "execution_count": 20,
   "metadata": {},
   "outputs": [
    {
     "data": {
      "text/plain": [
       "dict"
      ]
     },
     "execution_count": 20,
     "metadata": {},
     "output_type": "execute_result"
    }
   ],
   "source": [
    "l = List(**data)\n",
    "l.items\n",
    "type(l.items[0])"
   ]
  },
  {
   "cell_type": "markdown",
   "metadata": {
    "slideshow": {
     "slide_type": "slide"
    }
   },
   "source": [
    "## Other API"
   ]
  },
  {
   "cell_type": "code",
   "execution_count": null,
   "metadata": {},
   "outputs": [],
   "source": [
    "from dataclasses import replace, asdict, astuple"
   ]
  },
  {
   "cell_type": "code",
   "execution_count": null,
   "metadata": {},
   "outputs": [],
   "source": []
  },
  {
   "cell_type": "code",
   "execution_count": null,
   "metadata": {},
   "outputs": [],
   "source": []
  }
 ],
 "metadata": {
  "celltoolbar": "Slideshow",
  "kernelspec": {
   "display_name": "Python 3",
   "language": "python",
   "name": "python3"
  },
  "language_info": {
   "codemirror_mode": {
    "name": "ipython",
    "version": 3
   },
   "file_extension": ".py",
   "mimetype": "text/x-python",
   "name": "python",
   "nbconvert_exporter": "python",
   "pygments_lexer": "ipython3",
   "version": "3.7.0"
  }
 },
 "nbformat": 4,
 "nbformat_minor": 2
}
